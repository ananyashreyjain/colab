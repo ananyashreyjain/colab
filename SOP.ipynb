{
  "nbformat": 4,
  "nbformat_minor": 0,
  "metadata": {
    "colab": {
      "name": "SOP.ipynb",
      "provenance": [],
      "authorship_tag": "ABX9TyOdmUKxZdeZ/uarKd8+fLfK",
      "include_colab_link": true
    },
    "kernelspec": {
      "name": "python3",
      "display_name": "Python 3"
    },
    "accelerator": "GPU"
  },
  "cells": [
    {
      "cell_type": "markdown",
      "metadata": {
        "id": "view-in-github",
        "colab_type": "text"
      },
      "source": [
        "<a href=\"https://colab.research.google.com/github/ananyashreyjain/colab/blob/master/SOP.ipynb\" target=\"_parent\"><img src=\"https://colab.research.google.com/assets/colab-badge.svg\" alt=\"Open In Colab\"/></a>"
      ]
    },
    {
      "cell_type": "code",
      "metadata": {
        "id": "hzXTBvHM1cWM",
        "colab_type": "code",
        "colab": {}
      },
      "source": [
        "#Hyper paramaters\n",
        "\n",
        "test_size = 0.2\n",
        "random_state = 42\n",
        "oov_token = '<oov>'\n",
        "num_words = 1e7\n",
        "embedding_dim = 100\n",
        "trunc_type = 'post'\n",
        "padding_type = 'post'\n",
        "maxlen = 100\n"
      ],
      "execution_count": 0,
      "outputs": []
    },
    {
      "cell_type": "code",
      "metadata": {
        "id": "suaxJW3e_OUb",
        "colab_type": "code",
        "colab": {}
      },
      "source": [
        "ignore = True\n",
        "if not ignore:\n",
        "  !wget --no-check-certificate http://snap.stanford.edu/data/amazon/productGraph/categoryFiles/reviews_Clothing_Shoes_and_Jewelry_5.json.gz -O AI/clothes.json.gz\n",
        "  !wget --no-check-certificate http://snap.stanford.edu/data/amazon/productGraph/categoryFiles/reviews_Sports_and_Outdoors_5.json.gz -O AI/sports.json.gz\n",
        "  !wget --no-check-certificate http://snap.stanford.edu/data/amazon/productGraph/categoryFiles/reviews_Cell_Phones_and_Accessories_5.json.gz -O AI/phones.json.gz\n",
        "  !wget --no-check-certificate http://snap.stanford.edu/data/amazon/productGraph/categoryFiles/reviews_Toys_and_Games_5.json.gz -O AI/games.json.gz"
      ],
      "execution_count": 0,
      "outputs": []
    },
    {
      "cell_type": "code",
      "metadata": {
        "id": "u1J2NQd1_POa",
        "colab_type": "code",
        "colab": {}
      },
      "source": [
        "ignore=True\n",
        "if not ignore:\n",
        "  !mkdir gdrive\n",
        "  from google.colab import drive\n",
        "  drive.mount('/gdrive')"
      ],
      "execution_count": 0,
      "outputs": []
    },
    {
      "cell_type": "code",
      "metadata": {
        "id": "an_28nK-_gwG",
        "colab_type": "code",
        "colab": {}
      },
      "source": [
        "ignore=True\n",
        "if not ignore:\n",
        "  !gunzip AI/clothes.json.gz\n",
        "  !gunzip AI/sports.json.gz\n",
        "  !gunzip AI/games.json.gz\n",
        "  !gunzip AI/phones.json.gz"
      ],
      "execution_count": 0,
      "outputs": []
    },
    {
      "cell_type": "code",
      "metadata": {
        "id": "PRxO2TwH_iqm",
        "colab_type": "code",
        "colab": {}
      },
      "source": [
        "import pandas as pd\n",
        "data_clothes = pd.read_json('AI/clothes.json', lines=True)\n",
        "data_sports = pd.read_json('AI/sports.json', lines=True)\n",
        "data_games = pd.read_json('AI/games.json', lines=True)\n",
        "data_phones = pd.read_json('AI/phones.json', lines=True)"
      ],
      "execution_count": 0,
      "outputs": []
    },
    {
      "cell_type": "code",
      "metadata": {
        "id": "m0IhZ22CB31E",
        "colab_type": "code",
        "outputId": "471abd5a-73d4-44c2-f418-7276cdb8e3e9",
        "colab": {
          "base_uri": "https://localhost:8080/",
          "height": 85
        }
      },
      "source": [
        "print(data_clothes.shape)\n",
        "print(data_sports.shape)\n",
        "print(data_games.shape)\n",
        "print(data_phones.shape)"
      ],
      "execution_count": 7,
      "outputs": [
        {
          "output_type": "stream",
          "text": [
            "(278677, 9)\n",
            "(296337, 9)\n",
            "(167597, 9)\n",
            "(194439, 9)\n"
          ],
          "name": "stdout"
        }
      ]
    },
    {
      "cell_type": "code",
      "metadata": {
        "id": "J6k1WX1sCM9r",
        "colab_type": "code",
        "outputId": "22161a95-4d58-4ae4-f7cd-4b4684453e94",
        "colab": {
          "base_uri": "https://localhost:8080/",
          "height": 204
        }
      },
      "source": [
        "data_clothes.head()"
      ],
      "execution_count": 8,
      "outputs": [
        {
          "output_type": "execute_result",
          "data": {
            "text/plain": [
              "       reviewerID        asin                 reviewerName helpful  \\\n",
              "0  A1KLRMWW2FWPL4  0000031887  Amazon Customer \"cameramom\"  [0, 0]   \n",
              "1  A2G5TCU2WDFZ65  0000031887              Amazon Customer  [0, 0]   \n",
              "2  A1RLQXYNCMWRWN  0000031887                       Carola  [0, 0]   \n",
              "3   A8U3FAMSJVHS5  0000031887                      Caromcg  [0, 0]   \n",
              "4  A3GEOILWLK86XM  0000031887                           CJ  [0, 0]   \n",
              "\n",
              "                                          reviewText  overall  \\\n",
              "0  This is a great tutu and at a really great pri...        5   \n",
              "1  I bought this for my 4 yr old daughter for dan...        5   \n",
              "2  What can I say... my daughters have it in oran...        5   \n",
              "3  We bought several tutus at once, and they are ...        5   \n",
              "4  Thank you Halo Heaven great product for Little...        5   \n",
              "\n",
              "                         summary  unixReviewTime   reviewTime  \n",
              "0  Great tutu-  not cheaply made      1297468800  02 12, 2011  \n",
              "1                    Very Cute!!      1358553600  01 19, 2013  \n",
              "2       I have buy more than one      1357257600   01 4, 2013  \n",
              "3               Adorable, Sturdy      1398556800  04 27, 2014  \n",
              "4        Grammy's Angels Love it      1394841600  03 15, 2014  "
            ],
            "text/html": [
              "<div>\n",
              "<style scoped>\n",
              "    .dataframe tbody tr th:only-of-type {\n",
              "        vertical-align: middle;\n",
              "    }\n",
              "\n",
              "    .dataframe tbody tr th {\n",
              "        vertical-align: top;\n",
              "    }\n",
              "\n",
              "    .dataframe thead th {\n",
              "        text-align: right;\n",
              "    }\n",
              "</style>\n",
              "<table border=\"1\" class=\"dataframe\">\n",
              "  <thead>\n",
              "    <tr style=\"text-align: right;\">\n",
              "      <th></th>\n",
              "      <th>reviewerID</th>\n",
              "      <th>asin</th>\n",
              "      <th>reviewerName</th>\n",
              "      <th>helpful</th>\n",
              "      <th>reviewText</th>\n",
              "      <th>overall</th>\n",
              "      <th>summary</th>\n",
              "      <th>unixReviewTime</th>\n",
              "      <th>reviewTime</th>\n",
              "    </tr>\n",
              "  </thead>\n",
              "  <tbody>\n",
              "    <tr>\n",
              "      <th>0</th>\n",
              "      <td>A1KLRMWW2FWPL4</td>\n",
              "      <td>0000031887</td>\n",
              "      <td>Amazon Customer \"cameramom\"</td>\n",
              "      <td>[0, 0]</td>\n",
              "      <td>This is a great tutu and at a really great pri...</td>\n",
              "      <td>5</td>\n",
              "      <td>Great tutu-  not cheaply made</td>\n",
              "      <td>1297468800</td>\n",
              "      <td>02 12, 2011</td>\n",
              "    </tr>\n",
              "    <tr>\n",
              "      <th>1</th>\n",
              "      <td>A2G5TCU2WDFZ65</td>\n",
              "      <td>0000031887</td>\n",
              "      <td>Amazon Customer</td>\n",
              "      <td>[0, 0]</td>\n",
              "      <td>I bought this for my 4 yr old daughter for dan...</td>\n",
              "      <td>5</td>\n",
              "      <td>Very Cute!!</td>\n",
              "      <td>1358553600</td>\n",
              "      <td>01 19, 2013</td>\n",
              "    </tr>\n",
              "    <tr>\n",
              "      <th>2</th>\n",
              "      <td>A1RLQXYNCMWRWN</td>\n",
              "      <td>0000031887</td>\n",
              "      <td>Carola</td>\n",
              "      <td>[0, 0]</td>\n",
              "      <td>What can I say... my daughters have it in oran...</td>\n",
              "      <td>5</td>\n",
              "      <td>I have buy more than one</td>\n",
              "      <td>1357257600</td>\n",
              "      <td>01 4, 2013</td>\n",
              "    </tr>\n",
              "    <tr>\n",
              "      <th>3</th>\n",
              "      <td>A8U3FAMSJVHS5</td>\n",
              "      <td>0000031887</td>\n",
              "      <td>Caromcg</td>\n",
              "      <td>[0, 0]</td>\n",
              "      <td>We bought several tutus at once, and they are ...</td>\n",
              "      <td>5</td>\n",
              "      <td>Adorable, Sturdy</td>\n",
              "      <td>1398556800</td>\n",
              "      <td>04 27, 2014</td>\n",
              "    </tr>\n",
              "    <tr>\n",
              "      <th>4</th>\n",
              "      <td>A3GEOILWLK86XM</td>\n",
              "      <td>0000031887</td>\n",
              "      <td>CJ</td>\n",
              "      <td>[0, 0]</td>\n",
              "      <td>Thank you Halo Heaven great product for Little...</td>\n",
              "      <td>5</td>\n",
              "      <td>Grammy's Angels Love it</td>\n",
              "      <td>1394841600</td>\n",
              "      <td>03 15, 2014</td>\n",
              "    </tr>\n",
              "  </tbody>\n",
              "</table>\n",
              "</div>"
            ]
          },
          "metadata": {
            "tags": []
          },
          "execution_count": 8
        }
      ]
    },
    {
      "cell_type": "code",
      "metadata": {
        "id": "HUTyoixDE9vw",
        "colab_type": "code",
        "colab": {}
      },
      "source": [
        "X_clothes, Y_clothes = data_clothes['reviewText'], data_clothes['overall']\n",
        "X_sports, Y_sports = data_sports['reviewText'], data_sports['overall']\n",
        "X_games, Y_games = data_games['reviewText'], data_games['overall']\n",
        "X_phones, Y_phones = data_phones['reviewText'], data_phones['overall']"
      ],
      "execution_count": 0,
      "outputs": []
    },
    {
      "cell_type": "code",
      "metadata": {
        "id": "Gj_f1etKDO04",
        "colab_type": "code",
        "colab": {}
      },
      "source": [
        "X_train = [None]*4\n",
        "X_test = [None]*4\n",
        "Y_train = [None]*4\n",
        "Y_test = [None]*4\n",
        "from sklearn.model_selection import train_test_split\n",
        "X_train[0], X_test[0], Y_train[0], Y_test[0] = train_test_split(X_clothes, Y_clothes, random_state=42, test_size=test_size, shuffle=True)\n",
        "X_train[1], X_test[1], Y_train[1], Y_test[1] = train_test_split(X_sports, Y_sports, random_state=42, test_size=test_size, shuffle=True)\n",
        "X_train[2], X_test[2], Y_train[2], Y_test[2] = train_test_split(X_games, Y_games, random_state=42, test_size=test_size, shuffle=True)\n",
        "X_train[3], X_test[3], Y_train[3], Y_test[3] = train_test_split(X_phones, Y_phones, random_state=42, test_size=test_size, shuffle=True)"
      ],
      "execution_count": 0,
      "outputs": []
    },
    {
      "cell_type": "code",
      "metadata": {
        "id": "dBskHO4k_674",
        "colab_type": "code",
        "outputId": "606f9869-1ae0-463f-c8e5-b50a643d49b6",
        "colab": {
          "base_uri": "https://localhost:8080/",
          "height": 51
        }
      },
      "source": [
        "print(X_train[0].shape, Y_train[0].shape)\n",
        "print(X_test[0].shape, Y_test[0].shape)"
      ],
      "execution_count": 11,
      "outputs": [
        {
          "output_type": "stream",
          "text": [
            "(222941,) (222941,)\n",
            "(55736,) (55736,)\n"
          ],
          "name": "stdout"
        }
      ]
    },
    {
      "cell_type": "code",
      "metadata": {
        "id": "ft6Zw9jOF_xv",
        "colab_type": "code",
        "colab": {}
      },
      "source": [
        "from tensorflow.keras.preprocessing.text import Tokenizer\n",
        "from tensorflow.keras.preprocessing.sequence import pad_sequences\n",
        "\n",
        "tokenizer = [None]*4\n",
        "sequences_train =[None]*4\n",
        "sequences_test = [None]*4\n",
        "padded_train = [None]*4\n",
        "padded_test = [None]*4\n",
        "for _ in range(0,4):\n",
        "  tokenizer[_] = Tokenizer(num_words=num_words)\n",
        "  tokenizer[_].fit_on_texts(X_train[_])\n",
        "  sequences_train[_] = tokenizer[_].texts_to_sequences(X_train[_])\n",
        "  sequences_test[_] = tokenizer[_].texts_to_sequences(X_test[_])\n",
        "  padded_train[_] = pad_sequences(sequences_train[_], maxlen=maxlen, padding=padding_type, truncating=trunc_type)\n",
        "  padded_test[_] = pad_sequences(sequences_test[_], maxlen=maxlen, padding=padding_type, truncating=trunc_type)\n"
      ],
      "execution_count": 0,
      "outputs": []
    },
    {
      "cell_type": "code",
      "metadata": {
        "id": "DKM7w_MovYtf",
        "colab_type": "code",
        "outputId": "dd9e081a-a2e3-492c-d54e-1ef1620b7cdc",
        "colab": {
          "base_uri": "https://localhost:8080/",
          "height": 34
        }
      },
      "source": [
        "vocab_size = [len(tokenizer[0].index_word),len(tokenizer[1].index_word),len(tokenizer[2].index_word),len(tokenizer[3].index_word)]\n",
        "print(vocab_size)"
      ],
      "execution_count": 13,
      "outputs": [
        {
          "output_type": "stream",
          "text": [
            "[75949, 119637, 80762, 81436]\n"
          ],
          "name": "stdout"
        }
      ]
    },
    {
      "cell_type": "code",
      "metadata": {
        "id": "ry0-9skuweyp",
        "colab_type": "code",
        "outputId": "2464aac8-705b-4578-f2f8-e8ddc3dc1469",
        "colab": {
          "base_uri": "https://localhost:8080/",
          "height": 88
        }
      },
      "source": [
        "print(X_train[0].iloc[1])\n",
        "string = [tokenizer[0].index_word.get(x,\" \") for x in padded_train[0][1]]\n",
        "print(string)\n",
        "print(len(string))"
      ],
      "execution_count": 14,
      "outputs": [
        {
          "output_type": "stream",
          "text": [
            "I LOVE THE COLORS OF THESE SOCKS BUT ONE COLOR COBINATION ;ONE OF THE PRETTIEST--TURQUIISE AND YELLOW IS WAY TOO TIGHT TO PULL THEM ON WITHOUT A CROWBAR! THE OTHERS FIT FINE. ILL BUY MORE IF YOU CAN MAKE THEM BIGGER. THE COLORS ARE WONDERFUL!\n",
            "['i', 'love', 'the', 'colors', 'of', 'these', 'socks', 'but', 'one', 'color', 'cobination', 'one', 'of', 'the', 'prettiest', 'turquiise', 'and', 'yellow', 'is', 'way', 'too', 'tight', 'to', 'pull', 'them', 'on', 'without', 'a', 'crowbar', 'the', 'others', 'fit', 'fine', 'ill', 'buy', 'more', 'if', 'you', 'can', 'make', 'them', 'bigger', 'the', 'colors', 'are', 'wonderful', ' ', ' ', ' ', ' ', ' ', ' ', ' ', ' ', ' ', ' ', ' ', ' ', ' ', ' ', ' ', ' ', ' ', ' ', ' ', ' ', ' ', ' ', ' ', ' ', ' ', ' ', ' ', ' ', ' ', ' ', ' ', ' ', ' ', ' ', ' ', ' ', ' ', ' ', ' ', ' ', ' ', ' ', ' ', ' ', ' ', ' ', ' ', ' ', ' ', ' ', ' ', ' ', ' ', ' ']\n",
            "100\n"
          ],
          "name": "stdout"
        }
      ]
    },
    {
      "cell_type": "markdown",
      "metadata": {
        "colab_type": "text",
        "id": "qAR85UjNi3qC"
      },
      "source": [
        ""
      ]
    },
    {
      "cell_type": "code",
      "metadata": {
        "id": "K6NrKvPvzwwc",
        "colab_type": "code",
        "outputId": "36cdb9e7-bd71-4e6a-a38d-a9a52fe99dfe",
        "colab": {
          "base_uri": "https://localhost:8080/",
          "height": 357
        }
      },
      "source": [
        "import tensorflow as tf\n",
        "model = tf.keras.Sequential([\n",
        "    tf.keras.layers.Embedding(input_dim=vocab_size[0]+1,output_dim=embedding_dim, input_length=maxlen),\n",
        "    tf.keras.layers.Dropout(0.2),\n",
        "    tf.keras.layers.Conv1D(64, 5, activation='relu'),\n",
        "    tf.keras.layers.MaxPooling1D(pool_size=4),\n",
        "    tf.keras.layers.Flatten(),\n",
        "    tf.keras.layers.Dense(6, activation='sigmoid')\n",
        "])\n",
        "model.compile(loss='sparse_categorical_crossentropy',optimizer='adam',metrics=['accuracy'])\n",
        "model.summary()"
      ],
      "execution_count": 23,
      "outputs": [
        {
          "output_type": "stream",
          "text": [
            "Model: \"sequential_2\"\n",
            "_________________________________________________________________\n",
            "Layer (type)                 Output Shape              Param #   \n",
            "=================================================================\n",
            "embedding_2 (Embedding)      (None, 100, 100)          7595000   \n",
            "_________________________________________________________________\n",
            "dropout_2 (Dropout)          (None, 100, 100)          0         \n",
            "_________________________________________________________________\n",
            "conv1d_2 (Conv1D)            (None, 96, 64)            32064     \n",
            "_________________________________________________________________\n",
            "max_pooling1d_2 (MaxPooling1 (None, 24, 64)            0         \n",
            "_________________________________________________________________\n",
            "flatten_2 (Flatten)          (None, 1536)              0         \n",
            "_________________________________________________________________\n",
            "dense_2 (Dense)              (None, 6)                 9222      \n",
            "=================================================================\n",
            "Total params: 7,636,286\n",
            "Trainable params: 7,636,286\n",
            "Non-trainable params: 0\n",
            "_________________________________________________________________\n"
          ],
          "name": "stdout"
        }
      ]
    },
    {
      "cell_type": "code",
      "metadata": {
        "colab_type": "code",
        "outputId": "c9ab4047-93b9-4e02-b313-f3ec375a21f9",
        "id": "X15mJ6EEisrK",
        "colab": {
          "base_uri": "https://localhost:8080/",
          "height": 51
        }
      },
      "source": [
        "num_epochs = 1\n",
        "history = model.fit(padded_train[0], Y_train[0], epochs=num_epochs, validation_data=(padded_test[0], Y_test[0]))"
      ],
      "execution_count": 24,
      "outputs": [
        {
          "output_type": "stream",
          "text": [
            "Train on 222941 samples, validate on 55736 samples\n",
            "222941/222941 [==============================] - 670s 3ms/sample - loss: 0.8300 - accuracy: 0.6638 - val_loss: 0.7785 - val_accuracy: 0.6815\n"
          ],
          "name": "stdout"
        }
      ]
    },
    {
      "cell_type": "code",
      "metadata": {
        "id": "zdxajA511ln2",
        "colab_type": "code",
        "colab": {}
      },
      "source": [
        "model.save('model.h5')"
      ],
      "execution_count": 0,
      "outputs": []
    },
    {
      "cell_type": "code",
      "metadata": {
        "id": "o5shQcix3QQU",
        "colab_type": "code",
        "colab": {
          "base_uri": "https://localhost:8080/",
          "height": 607
        },
        "outputId": "a18451cd-1c65-4ccb-e19d-00db12e08faf"
      },
      "source": [
        "import matplotlib.image  as mpimg\n",
        "import matplotlib.pyplot as plt\n",
        "\n",
        "acc=history.history['accuracy']\n",
        "val_acc=history.history['val_accuracy']\n",
        "loss=history.history['loss']\n",
        "val_loss=history.history['val_loss']\n",
        "\n",
        "epochs=range(len(acc))\n",
        "\n",
        "plt.plot(epochs, acc, 'r')\n",
        "plt.plot(epochs, val_acc, 'b')\n",
        "plt.title('Training and validation accuracy')\n",
        "plt.xlabel(\"Epochs\")\n",
        "plt.ylabel(\"Accuracy\")\n",
        "plt.legend([\"Accuracy\", \"Validation Accuracy\"])\n",
        "\n",
        "plt.figure()\n",
        "plt.plot(epochs, loss, 'r')\n",
        "plt.plot(epochs, val_loss, 'b')\n",
        "plt.title('Training and validation loss')\n",
        "plt.xlabel(\"Epochs\")\n",
        "plt.ylabel(\"Loss\")\n",
        "plt.legend([\"Loss\", \"Validation Loss\"])\n",
        "\n",
        "plt.figure()"
      ],
      "execution_count": 26,
      "outputs": [
        {
          "output_type": "execute_result",
          "data": {
            "text/plain": [
              "<Figure size 432x288 with 0 Axes>"
            ]
          },
          "metadata": {
            "tags": []
          },
          "execution_count": 26
        },
        {
          "output_type": "display_data",
          "data": {
            "text/plain": [
              "<Figure size 432x288 with 1 Axes>"
            ],
            "image/png": "[encoded data removed]"
          },
          "metadata": {
            "tags": [],
            "needs_background": "light"
          }
        },
        {
          "output_type": "display_data",
          "data": {
            "text/plain": [
              "<Figure size 432x288 with 1 Axes>"
            ],
            "image/png": "[encoded data removed]"
          },
          "metadata": {
            "tags": [],
            "needs_background": "light"
          }
        },
        {
          "output_type": "display_data",
          "data": {
            "text/plain": [
              "<Figure size 432x288 with 0 Axes>"
            ]
          },
          "metadata": {
            "tags": []
          }
        }
      ]
    },
    {
      "cell_type": "code",
      "metadata": {
        "id": "MR1dFoXeBguP",
        "colab_type": "code",
        "colab": {
          "base_uri": "https://localhost:8080/",
          "height": 119
        },
        "outputId": "66f94a66-c6d5-416e-93f2-2456ed9eea16"
      },
      "source": [
        "import numpy as np\n",
        "inp = [None]*6\n",
        "inp[0] = \"Cloth fabric looks cheap\"\n",
        "inp[1] = \"This shirt is cheap in price\"\n",
        "inp[2] = \"The colour of shirt faded within a week\"\n",
        "inp[3] = \"The quality of the shirt is okay\"\n",
        "inp[4] = \"The shirt I got is very dirty\"\n",
        "inp[5] = \"I give this shirt a four star rating\"\n",
        "val=tokenizer[0].texts_to_sequences(inp)\n",
        "seq = pad_sequences(val, maxlen=maxlen, padding=padding_type, truncating=trunc_type)\n",
        "pre=model.predict(seq)\n",
        "for no, _ in enumerate(pre):\n",
        "  print(\"rating received for '%s' = %d\" % (inp[no],(np.where(max(_)==_)[0][0])))"
      ],
      "execution_count": 114,
      "outputs": [
        {
          "output_type": "stream",
          "text": [
            "rating received for 'Cloth fabric looks cheap' = 1\n",
            "rating received for 'This shirt is cheap in price' = 5\n",
            "rating received for 'The colour of shirt faded within a week' = 1\n",
            "rating received for 'The quality of the shirt is okay' = 3\n",
            "rating received for 'The shirt I got is very dirty' = 1\n",
            "rating received for 'I give this shirt a four star rating' = 4\n"
          ],
          "name": "stdout"
        }
      ]
    },
    {
      "cell_type": "code",
      "metadata": {
        "id": "X6vRfx6QBsFw",
        "colab_type": "code",
        "colab": {}
      },
      "source": [
        ""
      ],
      "execution_count": 0,
      "outputs": []
    }
  ]
}